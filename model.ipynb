{
 "cells": [
  {
   "cell_type": "markdown",
   "metadata": {},
   "source": [
    "# Wind prediction"
   ]
  },
  {
   "cell_type": "code",
   "execution_count": 1,
   "metadata": {},
   "outputs": [],
   "source": [
    "import pandas as pd\n",
    "import numpy as np"
   ]
  },
  {
   "cell_type": "code",
   "execution_count": 2,
   "metadata": {},
   "outputs": [],
   "source": [
    "dataset = pd.read_csv('./final.csv')"
   ]
  },
  {
   "cell_type": "code",
   "execution_count": 3,
   "metadata": {},
   "outputs": [
    {
     "data": {
      "text/html": [
       "<div>\n",
       "<style scoped>\n",
       "    .dataframe tbody tr th:only-of-type {\n",
       "        vertical-align: middle;\n",
       "    }\n",
       "\n",
       "    .dataframe tbody tr th {\n",
       "        vertical-align: top;\n",
       "    }\n",
       "\n",
       "    .dataframe thead th {\n",
       "        text-align: right;\n",
       "    }\n",
       "</style>\n",
       "<table border=\"1\" class=\"dataframe\">\n",
       "  <thead>\n",
       "    <tr style=\"text-align: right;\">\n",
       "      <th></th>\n",
       "      <th>Date</th>\n",
       "      <th>Temp</th>\n",
       "      <th>Point de rosée</th>\n",
       "      <th>Hum. rel</th>\n",
       "      <th>Dir. du vent</th>\n",
       "      <th>Vit. du vent</th>\n",
       "      <th>Pression à la station</th>\n",
       "    </tr>\n",
       "  </thead>\n",
       "  <tbody>\n",
       "    <tr>\n",
       "      <th>0</th>\n",
       "      <td>1/1/2017 0:00</td>\n",
       "      <td>-7,3</td>\n",
       "      <td>-12,3</td>\n",
       "      <td>67.0</td>\n",
       "      <td>32.0</td>\n",
       "      <td>12.0</td>\n",
       "      <td>98,12</td>\n",
       "    </tr>\n",
       "    <tr>\n",
       "      <th>1</th>\n",
       "      <td>1/1/2017 1:00</td>\n",
       "      <td>-7,5</td>\n",
       "      <td>-12,5</td>\n",
       "      <td>68.0</td>\n",
       "      <td>32.0</td>\n",
       "      <td>11.0</td>\n",
       "      <td>98,14</td>\n",
       "    </tr>\n",
       "    <tr>\n",
       "      <th>2</th>\n",
       "      <td>1/1/2017 2:00</td>\n",
       "      <td>-9,5</td>\n",
       "      <td>-12,8</td>\n",
       "      <td>77.0</td>\n",
       "      <td>29.0</td>\n",
       "      <td>1.0</td>\n",
       "      <td>98,16</td>\n",
       "    </tr>\n",
       "    <tr>\n",
       "      <th>3</th>\n",
       "      <td>1/1/2017 3:00</td>\n",
       "      <td>-11,7</td>\n",
       "      <td>-13,5</td>\n",
       "      <td>86.0</td>\n",
       "      <td>0.0</td>\n",
       "      <td>1.0</td>\n",
       "      <td>98,17</td>\n",
       "    </tr>\n",
       "    <tr>\n",
       "      <th>4</th>\n",
       "      <td>1/1/2017 4:00</td>\n",
       "      <td>-12,8</td>\n",
       "      <td>-15,1</td>\n",
       "      <td>83.0</td>\n",
       "      <td>11.0</td>\n",
       "      <td>2.0</td>\n",
       "      <td>98,18</td>\n",
       "    </tr>\n",
       "  </tbody>\n",
       "</table>\n",
       "</div>"
      ],
      "text/plain": [
       "            Date  Temp  Point de rosée   Hum. rel   Dir. du vent   \\\n",
       "0  1/1/2017 0:00   -7,3           -12,3       67.0           32.0   \n",
       "1  1/1/2017 1:00   -7,5           -12,5       68.0           32.0   \n",
       "2  1/1/2017 2:00   -9,5           -12,8       77.0           29.0   \n",
       "3  1/1/2017 3:00  -11,7           -13,5       86.0            0.0   \n",
       "4  1/1/2017 4:00  -12,8           -15,1       83.0           11.0   \n",
       "\n",
       "   Vit. du vent Pression à la station  \n",
       "0          12.0                 98,12  \n",
       "1          11.0                 98,14  \n",
       "2           1.0                 98,16  \n",
       "3           1.0                 98,17  \n",
       "4           2.0                 98,18  "
      ]
     },
     "execution_count": 3,
     "metadata": {},
     "output_type": "execute_result"
    }
   ],
   "source": [
    "dataset.head(5)"
   ]
  },
  {
   "cell_type": "markdown",
   "metadata": {},
   "source": [
    "### Data preprocessing"
   ]
  },
  {
   "cell_type": "code",
   "execution_count": 4,
   "metadata": {},
   "outputs": [],
   "source": [
    "dates = np.array(dataset.Date)\n",
    "new_dates = []\n",
    "for i in range(len(dates)):\n",
    "    if '/' in dates[i]:\n",
    "        [date,hour]=dates[i].split(' ')\n",
    "        new_dates.append(date.split('/')+[hour.split(':')[0]])\n",
    "preprocess_dates = pd.DataFrame(new_dates, columns=['Mois','Jour','An','Heure'])"
   ]
  },
  {
   "cell_type": "code",
   "execution_count": 5,
   "metadata": {},
   "outputs": [],
   "source": [
    "cos_month = np.array(np.cos(pd.to_numeric(preprocess_dates.Mois).multiply((360/12)*(np.pi/180.0))))\n",
    "sin_month = np.array(np.sin(pd.to_numeric(preprocess_dates.Mois).multiply((360/12)*(np.pi/180.0))))"
   ]
  },
  {
   "cell_type": "code",
   "execution_count": 6,
   "metadata": {},
   "outputs": [],
   "source": [
    "cos_hour = np.array(np.cos(pd.to_numeric(preprocess_dates.Heure).multiply((360/24)*(np.pi/180.0))))\n",
    "sin_hour = np.array(np.sin(pd.to_numeric(preprocess_dates.Heure).multiply((360/24)*(np.pi/180.0))))"
   ]
  },
  {
   "cell_type": "code",
   "execution_count": 7,
   "metadata": {},
   "outputs": [
    {
     "data": {
      "text/plain": [
       "Index(['Date', 'Temp ', 'Point de rosée ', 'Hum. rel ', 'Dir. du vent ',\n",
       "       'Vit. du vent', 'Pression à la station'],\n",
       "      dtype='object')"
      ]
     },
     "execution_count": 7,
     "metadata": {},
     "output_type": "execute_result"
    }
   ],
   "source": [
    "dataset.columns"
   ]
  },
  {
   "cell_type": "code",
   "execution_count": 8,
   "metadata": {},
   "outputs": [],
   "source": [
    "cos_dir_wind = np.array(np.cos(pd.to_numeric(dataset[\"Dir. du vent\"]).multiply(np.pi/18.0)))\n",
    "sin_dir_wind = np.array(np.sin(pd.to_numeric(dataset[\"Dir. du vent\"]).multiply(np.pi/18.0)))"
   ]
  },
  {
   "cell_type": "code",
   "execution_count": 9,
   "metadata": {},
   "outputs": [],
   "source": [
    "dataset[\"cos_hour\"] = cos_hour\n",
    "dataset[\"sin_hour\"] = sin_hour\n",
    "dataset[\"cos_month\"] = cos_month\n",
    "dataset[\"sin_month\"] = sin_month\n",
    "dataset[\"cos_dir_wind\"] = cos_dir_wind\n",
    "dataset[\"sin_dir_wind\"] = sin_dir_wind"
   ]
  },
  {
   "cell_type": "code",
   "execution_count": 10,
   "metadata": {},
   "outputs": [],
   "source": [
    "dataset = dataset.drop(columns = ['Date',\"Dir. du vent\"])"
   ]
  },
  {
   "cell_type": "code",
   "execution_count": 11,
   "metadata": {},
   "outputs": [],
   "source": [
    "dataset['Temp'] = pd.to_numeric(dataset['Temp'].str.replace(',','.'))\n",
    "dataset['Point de rosée'] = pd.to_numeric(dataset['Point de rosée'].str.replace(',','.'))\n",
    "dataset['Pression à la station'] = pd.to_numeric(dataset['Pression à la station'].str.replace(',','.'))\n",
    "# dataset['Hum. rel '] = dataset['Hum. rel ']\n",
    "# dataset['Dir. du vent '] = dataset['Dir. du vent ']\n",
    "# dataset['Vit. du vent'] = dataset['Vit. du vent']\n",
    "# dataset['Pression à la station'] = dataset['Dir. du vent ']"
   ]
  },
  {
   "cell_type": "code",
   "execution_count": 12,
   "metadata": {},
   "outputs": [
    {
     "data": {
      "text/plain": [
       "Temp                       53\n",
       "Point de rosée             53\n",
       "Hum. rel                   53\n",
       "Vit. du vent               53\n",
       "Pression à la station      53\n",
       "cos_hour                    0\n",
       "sin_hour                    0\n",
       "cos_month                   0\n",
       "sin_month                   0\n",
       "cos_dir_wind             1213\n",
       "sin_dir_wind             1213\n",
       "dtype: int64"
      ]
     },
     "execution_count": 12,
     "metadata": {},
     "output_type": "execute_result"
    }
   ],
   "source": [
    "dataset.isnull().sum()"
   ]
  },
  {
   "cell_type": "code",
   "execution_count": 13,
   "metadata": {},
   "outputs": [],
   "source": [
    "dataset = dataset.apply(pd.to_numeric)"
   ]
  },
  {
   "cell_type": "code",
   "execution_count": 14,
   "metadata": {},
   "outputs": [],
   "source": [
    "dataset = dataset.dropna()"
   ]
  },
  {
   "cell_type": "code",
   "execution_count": 15,
   "metadata": {},
   "outputs": [
    {
     "data": {
      "text/html": [
       "<div>\n",
       "<style scoped>\n",
       "    .dataframe tbody tr th:only-of-type {\n",
       "        vertical-align: middle;\n",
       "    }\n",
       "\n",
       "    .dataframe tbody tr th {\n",
       "        vertical-align: top;\n",
       "    }\n",
       "\n",
       "    .dataframe thead th {\n",
       "        text-align: right;\n",
       "    }\n",
       "</style>\n",
       "<table border=\"1\" class=\"dataframe\">\n",
       "  <thead>\n",
       "    <tr style=\"text-align: right;\">\n",
       "      <th></th>\n",
       "      <th>Temp</th>\n",
       "      <th>Point de rosée</th>\n",
       "      <th>Hum. rel</th>\n",
       "      <th>Vit. du vent</th>\n",
       "      <th>Pression à la station</th>\n",
       "      <th>cos_hour</th>\n",
       "      <th>sin_hour</th>\n",
       "      <th>cos_month</th>\n",
       "      <th>sin_month</th>\n",
       "      <th>cos_dir_wind</th>\n",
       "      <th>sin_dir_wind</th>\n",
       "    </tr>\n",
       "  </thead>\n",
       "  <tbody>\n",
       "    <tr>\n",
       "      <th>0</th>\n",
       "      <td>-7.3</td>\n",
       "      <td>-12.3</td>\n",
       "      <td>67.0</td>\n",
       "      <td>12.0</td>\n",
       "      <td>98.12</td>\n",
       "      <td>1.000000</td>\n",
       "      <td>0.000000</td>\n",
       "      <td>0.866025</td>\n",
       "      <td>0.5</td>\n",
       "      <td>0.766044</td>\n",
       "      <td>-0.642788</td>\n",
       "    </tr>\n",
       "    <tr>\n",
       "      <th>1</th>\n",
       "      <td>-7.5</td>\n",
       "      <td>-12.5</td>\n",
       "      <td>68.0</td>\n",
       "      <td>11.0</td>\n",
       "      <td>98.14</td>\n",
       "      <td>0.965926</td>\n",
       "      <td>0.258819</td>\n",
       "      <td>0.866025</td>\n",
       "      <td>0.5</td>\n",
       "      <td>0.766044</td>\n",
       "      <td>-0.642788</td>\n",
       "    </tr>\n",
       "    <tr>\n",
       "      <th>2</th>\n",
       "      <td>-9.5</td>\n",
       "      <td>-12.8</td>\n",
       "      <td>77.0</td>\n",
       "      <td>1.0</td>\n",
       "      <td>98.16</td>\n",
       "      <td>0.866025</td>\n",
       "      <td>0.500000</td>\n",
       "      <td>0.866025</td>\n",
       "      <td>0.5</td>\n",
       "      <td>0.342020</td>\n",
       "      <td>-0.939693</td>\n",
       "    </tr>\n",
       "    <tr>\n",
       "      <th>3</th>\n",
       "      <td>-11.7</td>\n",
       "      <td>-13.5</td>\n",
       "      <td>86.0</td>\n",
       "      <td>1.0</td>\n",
       "      <td>98.17</td>\n",
       "      <td>0.707107</td>\n",
       "      <td>0.707107</td>\n",
       "      <td>0.866025</td>\n",
       "      <td>0.5</td>\n",
       "      <td>1.000000</td>\n",
       "      <td>0.000000</td>\n",
       "    </tr>\n",
       "    <tr>\n",
       "      <th>4</th>\n",
       "      <td>-12.8</td>\n",
       "      <td>-15.1</td>\n",
       "      <td>83.0</td>\n",
       "      <td>2.0</td>\n",
       "      <td>98.18</td>\n",
       "      <td>0.500000</td>\n",
       "      <td>0.866025</td>\n",
       "      <td>0.866025</td>\n",
       "      <td>0.5</td>\n",
       "      <td>-0.342020</td>\n",
       "      <td>0.939693</td>\n",
       "    </tr>\n",
       "  </tbody>\n",
       "</table>\n",
       "</div>"
      ],
      "text/plain": [
       "   Temp   Point de rosée   Hum. rel   Vit. du vent  Pression à la station  \\\n",
       "0   -7.3            -12.3       67.0          12.0                  98.12   \n",
       "1   -7.5            -12.5       68.0          11.0                  98.14   \n",
       "2   -9.5            -12.8       77.0           1.0                  98.16   \n",
       "3  -11.7            -13.5       86.0           1.0                  98.17   \n",
       "4  -12.8            -15.1       83.0           2.0                  98.18   \n",
       "\n",
       "   cos_hour  sin_hour  cos_month  sin_month  cos_dir_wind  sin_dir_wind  \n",
       "0  1.000000  0.000000   0.866025        0.5      0.766044     -0.642788  \n",
       "1  0.965926  0.258819   0.866025        0.5      0.766044     -0.642788  \n",
       "2  0.866025  0.500000   0.866025        0.5      0.342020     -0.939693  \n",
       "3  0.707107  0.707107   0.866025        0.5      1.000000      0.000000  \n",
       "4  0.500000  0.866025   0.866025        0.5     -0.342020      0.939693  "
      ]
     },
     "execution_count": 15,
     "metadata": {},
     "output_type": "execute_result"
    }
   ],
   "source": [
    "dataset.head()"
   ]
  },
  {
   "cell_type": "code",
   "execution_count": 16,
   "metadata": {},
   "outputs": [
    {
     "data": {
      "text/plain": [
       "Temp                      34.30\n",
       "Point de rosée            17.40\n",
       "Hum. rel                 100.00\n",
       "Vit. du vent              33.00\n",
       "Pression à la station    100.04\n",
       "cos_hour                   1.00\n",
       "sin_hour                   1.00\n",
       "cos_month                  1.00\n",
       "sin_month                  1.00\n",
       "cos_dir_wind               1.00\n",
       "sin_dir_wind               1.00\n",
       "dtype: float64"
      ]
     },
     "execution_count": 16,
     "metadata": {},
     "output_type": "execute_result"
    }
   ],
   "source": [
    "dataset.max()"
   ]
  },
  {
   "cell_type": "code",
   "execution_count": 18,
   "metadata": {},
   "outputs": [
    {
     "data": {
      "text/plain": [
       "<matplotlib.axes._subplots.AxesSubplot at 0x237dd372940>"
      ]
     },
     "execution_count": 18,
     "metadata": {},
     "output_type": "execute_result"
    },
    {
     "data": {
      "image/png": "[encoded data removed]",
      "text/plain": [
       "<matplotlib.figure.Figure at 0x237dd334ac8>"
      ]
     },
     "metadata": {
      "needs_background": "light"
     },
     "output_type": "display_data"
    }
   ],
   "source": [
    "import matplotlib.pyplot as plt\n",
    "import seaborn as sns\n",
    "corrmat = dataset.corr()\n",
    "plt.subplots(figsize=(12,9))\n",
    "sns.heatmap(corrmat, vmax=0.9, square=True)"
   ]
  },
  {
   "cell_type": "code",
   "execution_count": 19,
   "metadata": {},
   "outputs": [
    {
     "data": {
      "text/html": [
       "<div>\n",
       "<style scoped>\n",
       "    .dataframe tbody tr th:only-of-type {\n",
       "        vertical-align: middle;\n",
       "    }\n",
       "\n",
       "    .dataframe tbody tr th {\n",
       "        vertical-align: top;\n",
       "    }\n",
       "\n",
       "    .dataframe thead th {\n",
       "        text-align: right;\n",
       "    }\n",
       "</style>\n",
       "<table border=\"1\" class=\"dataframe\">\n",
       "  <thead>\n",
       "    <tr style=\"text-align: right;\">\n",
       "      <th></th>\n",
       "      <th>Temp</th>\n",
       "      <th>Point de rosée</th>\n",
       "      <th>Hum. rel</th>\n",
       "      <th>Vit. du vent</th>\n",
       "      <th>Pression à la station</th>\n",
       "      <th>cos_hour</th>\n",
       "      <th>sin_hour</th>\n",
       "      <th>cos_month</th>\n",
       "      <th>sin_month</th>\n",
       "      <th>cos_dir_wind</th>\n",
       "      <th>sin_dir_wind</th>\n",
       "    </tr>\n",
       "  </thead>\n",
       "  <tbody>\n",
       "    <tr>\n",
       "      <th>0</th>\n",
       "      <td>-7.3</td>\n",
       "      <td>-12.3</td>\n",
       "      <td>67.0</td>\n",
       "      <td>12.0</td>\n",
       "      <td>98.12</td>\n",
       "      <td>1.000000</td>\n",
       "      <td>0.000000</td>\n",
       "      <td>0.866025</td>\n",
       "      <td>0.5</td>\n",
       "      <td>0.766044</td>\n",
       "      <td>-0.642788</td>\n",
       "    </tr>\n",
       "    <tr>\n",
       "      <th>1</th>\n",
       "      <td>-7.5</td>\n",
       "      <td>-12.5</td>\n",
       "      <td>68.0</td>\n",
       "      <td>11.0</td>\n",
       "      <td>98.14</td>\n",
       "      <td>0.965926</td>\n",
       "      <td>0.258819</td>\n",
       "      <td>0.866025</td>\n",
       "      <td>0.5</td>\n",
       "      <td>0.766044</td>\n",
       "      <td>-0.642788</td>\n",
       "    </tr>\n",
       "    <tr>\n",
       "      <th>2</th>\n",
       "      <td>-9.5</td>\n",
       "      <td>-12.8</td>\n",
       "      <td>77.0</td>\n",
       "      <td>1.0</td>\n",
       "      <td>98.16</td>\n",
       "      <td>0.866025</td>\n",
       "      <td>0.500000</td>\n",
       "      <td>0.866025</td>\n",
       "      <td>0.5</td>\n",
       "      <td>0.342020</td>\n",
       "      <td>-0.939693</td>\n",
       "    </tr>\n",
       "    <tr>\n",
       "      <th>3</th>\n",
       "      <td>-11.7</td>\n",
       "      <td>-13.5</td>\n",
       "      <td>86.0</td>\n",
       "      <td>1.0</td>\n",
       "      <td>98.17</td>\n",
       "      <td>0.707107</td>\n",
       "      <td>0.707107</td>\n",
       "      <td>0.866025</td>\n",
       "      <td>0.5</td>\n",
       "      <td>1.000000</td>\n",
       "      <td>0.000000</td>\n",
       "    </tr>\n",
       "    <tr>\n",
       "      <th>4</th>\n",
       "      <td>-12.8</td>\n",
       "      <td>-15.1</td>\n",
       "      <td>83.0</td>\n",
       "      <td>2.0</td>\n",
       "      <td>98.18</td>\n",
       "      <td>0.500000</td>\n",
       "      <td>0.866025</td>\n",
       "      <td>0.866025</td>\n",
       "      <td>0.5</td>\n",
       "      <td>-0.342020</td>\n",
       "      <td>0.939693</td>\n",
       "    </tr>\n",
       "  </tbody>\n",
       "</table>\n",
       "</div>"
      ],
      "text/plain": [
       "   Temp   Point de rosée   Hum. rel   Vit. du vent  Pression à la station  \\\n",
       "0   -7.3            -12.3       67.0          12.0                  98.12   \n",
       "1   -7.5            -12.5       68.0          11.0                  98.14   \n",
       "2   -9.5            -12.8       77.0           1.0                  98.16   \n",
       "3  -11.7            -13.5       86.0           1.0                  98.17   \n",
       "4  -12.8            -15.1       83.0           2.0                  98.18   \n",
       "\n",
       "   cos_hour  sin_hour  cos_month  sin_month  cos_dir_wind  sin_dir_wind  \n",
       "0  1.000000  0.000000   0.866025        0.5      0.766044     -0.642788  \n",
       "1  0.965926  0.258819   0.866025        0.5      0.766044     -0.642788  \n",
       "2  0.866025  0.500000   0.866025        0.5      0.342020     -0.939693  \n",
       "3  0.707107  0.707107   0.866025        0.5      1.000000      0.000000  \n",
       "4  0.500000  0.866025   0.866025        0.5     -0.342020      0.939693  "
      ]
     },
     "execution_count": 19,
     "metadata": {},
     "output_type": "execute_result"
    }
   ],
   "source": [
    "dataset.head()"
   ]
  },
  {
   "cell_type": "code",
   "execution_count": 20,
   "metadata": {},
   "outputs": [],
   "source": [
    "from sklearn.preprocessing import StandardScaler\n",
    "\n",
    "train_size = 18000\n",
    "dataset = pd.DataFrame(dataset)\n",
    "sc_X = StandardScaler()\n",
    "sc_X.fit(dataset.iloc[:train_size])\n",
    "dataset = sc_X.transform(dataset)\n",
    "dataset = pd.DataFrame(dataset)\n",
    "sc_y = StandardScaler()\n",
    "sc_y.fit(dataset.iloc[:train_size,[3,-2,-1]])\n",
    "dataset.iloc[:,[3,-2,-1]] = sc_y.transform(dataset.iloc[:,[3,-2,-1]])\n",
    "dataset = pd.DataFrame(dataset)"
   ]
  },
  {
   "cell_type": "code",
   "execution_count": 21,
   "metadata": {},
   "outputs": [],
   "source": [
    "past_timesteps = 5\n",
    "futur_timesteps = 2\n",
    "\n",
    "X = [np.array(dataset.iloc[index:index+past_timesteps,:]) for index in range(len(dataset)-past_timesteps-futur_timesteps)]\n",
    "y = [np.array(dataset.iloc[index:index+futur_timesteps,[3,-2,-1]]) for index in range(past_timesteps,len(dataset)-futur_timesteps)]"
   ]
  },
  {
   "cell_type": "code",
   "execution_count": 22,
   "metadata": {},
   "outputs": [],
   "source": [
    "X = np.array(X)\n",
    "y = np.array(y)"
   ]
  },
  {
   "cell_type": "code",
   "execution_count": 23,
   "metadata": {},
   "outputs": [],
   "source": [
    "X_train = X[:train_size,:,:]\n",
    "X_test = X[train_size:,:,:]\n",
    "y_train = y[:train_size,:,:]\n",
    "y_test = y[train_size:,:,:]"
   ]
  },
  {
   "cell_type": "code",
   "execution_count": 24,
   "metadata": {},
   "outputs": [],
   "source": [
    "input_size = len(dataset.columns)\n",
    "output_size = 3\n",
    "nb_epochs = 30\n",
    "batch_size = 128\n",
    "use_dropout = False\n",
    "lstm_recurrent_dropout = 0\n",
    "lstm_dropout = 0\n",
    "fc_dropout = 0.2\n",
    "hidden_size_lstm = 128*2\n",
    "hidden_size_fc1 = 128"
   ]
  },
  {
   "cell_type": "code",
   "execution_count": 25,
   "metadata": {},
   "outputs": [
    {
     "name": "stderr",
     "output_type": "stream",
     "text": [
      "C:\\Users\\Portable\\Anaconda3\\lib\\site-packages\\h5py\\__init__.py:36: FutureWarning: Conversion of the second argument of issubdtype from `float` to `np.floating` is deprecated. In future, it will be treated as `np.float64 == np.dtype(float).type`.\n",
      "  from ._conv import register_converters as _register_converters\n",
      "Using TensorFlow backend.\n"
     ]
    },
    {
     "name": "stdout",
     "output_type": "stream",
     "text": [
      "Epoch 1/30\n",
      "18000/18000 [==============================] - 11s 629us/step - loss: 0.6014\n",
      "Epoch 2/30\n",
      "18000/18000 [==============================] - 10s 566us/step - loss: 0.5387\n",
      "Epoch 3/30\n",
      "18000/18000 [==============================] - 10s 543us/step - loss: 0.5305\n",
      "Epoch 4/30\n",
      "18000/18000 [==============================] - 9s 518us/step - loss: 0.5260\n",
      "Epoch 5/30\n",
      "18000/18000 [==============================] - 10s 560us/step - loss: 0.5218\n",
      "Epoch 6/30\n",
      "18000/18000 [==============================] - 10s 541us/step - loss: 0.5192\n",
      "Epoch 7/30\n",
      "18000/18000 [==============================] - 9s 522us/step - loss: 0.5165\n",
      "Epoch 8/30\n",
      "18000/18000 [==============================] - 10s 534us/step - loss: 0.5134\n",
      "Epoch 9/30\n",
      "18000/18000 [==============================] - 10s 556us/step - loss: 0.5102\n",
      "Epoch 10/30\n",
      "18000/18000 [==============================] - 10s 536us/step - loss: 0.5068\n",
      "Epoch 11/30\n",
      "18000/18000 [==============================] - 10s 553us/step - loss: 0.5041\n",
      "Epoch 12/30\n",
      "18000/18000 [==============================] - 10s 579us/step - loss: 0.5003\n",
      "Epoch 13/30\n",
      "18000/18000 [==============================] - 11s 585us/step - loss: 0.4968\n",
      "Epoch 14/30\n",
      "18000/18000 [==============================] - 10s 563us/step - loss: 0.4940\n",
      "Epoch 15/30\n",
      "18000/18000 [==============================] - 10s 548us/step - loss: 0.4894\n",
      "Epoch 16/30\n",
      "18000/18000 [==============================] - 10s 548us/step - loss: 0.4858\n",
      "Epoch 17/30\n",
      "18000/18000 [==============================] - 10s 561us/step - loss: 0.4797\n",
      "Epoch 18/30\n",
      "18000/18000 [==============================] - 10s 572us/step - loss: 0.4756\n",
      "Epoch 19/30\n",
      "18000/18000 [==============================] - 10s 571us/step - loss: 0.4694\n",
      "Epoch 20/30\n",
      "18000/18000 [==============================] - 11s 597us/step - loss: 0.4621\n",
      "Epoch 21/30\n",
      "18000/18000 [==============================] - 11s 606us/step - loss: 0.4573\n",
      "Epoch 22/30\n",
      "18000/18000 [==============================] - 10s 558us/step - loss: 0.4476\n",
      "Epoch 23/30\n",
      "18000/18000 [==============================] - 10s 546us/step - loss: 0.4402\n",
      "Epoch 24/30\n",
      "18000/18000 [==============================] - 10s 546us/step - loss: 0.4306\n",
      "Epoch 25/30\n",
      "18000/18000 [==============================] - 11s 591us/step - loss: 0.4188\n",
      "Epoch 26/30\n",
      "18000/18000 [==============================] - 11s 602us/step - loss: 0.4081\n",
      "Epoch 27/30\n",
      "18000/18000 [==============================] - 10s 573us/step - loss: 0.3955\n",
      "Epoch 28/30\n",
      "18000/18000 [==============================] - 11s 612us/step - loss: 0.3824\n",
      "Epoch 29/30\n",
      "18000/18000 [==============================] - 10s 572us/step - loss: 0.3697\n",
      "Epoch 30/30\n",
      "18000/18000 [==============================] - 10s 553us/step - loss: 0.3555\n"
     ]
    },
    {
     "data": {
      "text/plain": [
       "<keras.callbacks.History at 0x237e1d7ce48>"
      ]
     },
     "execution_count": 25,
     "metadata": {},
     "output_type": "execute_result"
    }
   ],
   "source": [
    "from keras.models import Sequential\n",
    "from keras.layers import Dense, LSTM, Dropout, Flatten, Reshape\n",
    "\n",
    "# Create the network\n",
    "model = Sequential()\n",
    "model.add(LSTM(hidden_size_lstm, input_shape=(past_timesteps,input_size) , return_sequences=True, recurrent_dropout=lstm_recurrent_dropout, dropout=lstm_dropout))\n",
    "#model.add(LSTM(hidden_size_lstm, return_sequences=True, recurrent_dropout=lstm_recurrent_dropout, dropout=lstm_dropout))\n",
    "model.add(Flatten())\n",
    "if use_dropout:model.add(Dropout(fc_dropout))\n",
    "model.add(Dense(units = hidden_size_fc1, activation = 'relu'))\n",
    "if use_dropout: model.add(Dropout(fc_dropout))\n",
    "model.add(Dense(units = output_size*futur_timesteps, activation = 'linear'))\n",
    "model.add(Reshape((futur_timesteps, output_size)))\n",
    "\n",
    "# Compile the network\n",
    "model.compile(loss='mean_squared_error', optimizer='adam')\n",
    "\n",
    "model.fit(X_train,y_train, epochs=nb_epochs, batch_size=batch_size)"
   ]
  },
  {
   "cell_type": "code",
   "execution_count": 26,
   "metadata": {},
   "outputs": [
    {
     "name": "stdout",
     "output_type": "stream",
     "text": [
      "Epoch 1/30\n",
      "18000/18000 [==============================] - 10s 543us/step - loss: 0.3409\n",
      "Epoch 2/30\n",
      "18000/18000 [==============================] - 10s 553us/step - loss: 0.32510s - loss: \n",
      "Epoch 3/30\n",
      "18000/18000 [==============================] - 10s 562us/step - loss: 0.3117\n",
      "Epoch 4/30\n",
      "18000/18000 [==============================] - 10s 577us/step - loss: 0.2968\n",
      "Epoch 5/30\n",
      "18000/18000 [==============================] - 11s 597us/step - loss: 0.2829\n",
      "Epoch 6/30\n",
      "18000/18000 [==============================] - 15s 818us/step - loss: 0.2677\n",
      "Epoch 7/30\n",
      "18000/18000 [==============================] - 15s 806us/step - loss: 0.2545\n",
      "Epoch 8/30\n",
      "18000/18000 [==============================] - 11s 593us/step - loss: 0.2419\n",
      "Epoch 9/30\n",
      "18000/18000 [==============================] - 10s 567us/step - loss: 0.2298\n",
      "Epoch 10/30\n",
      "18000/18000 [==============================] - 10s 561us/step - loss: 0.2185\n",
      "Epoch 11/30\n",
      "18000/18000 [==============================] - 10s 550us/step - loss: 0.2070\n",
      "Epoch 12/30\n",
      "18000/18000 [==============================] - 10s 562us/step - loss: 0.1964\n",
      "Epoch 13/30\n",
      "18000/18000 [==============================] - 10s 564us/step - loss: 0.1864\n",
      "Epoch 14/30\n",
      "18000/18000 [==============================] - 14s 779us/step - loss: 0.1769\n",
      "Epoch 15/30\n",
      "18000/18000 [==============================] - 14s 780us/step - loss: 0.1672\n",
      "Epoch 16/30\n",
      "18000/18000 [==============================] - 14s 762us/step - loss: 0.1605\n",
      "Epoch 17/30\n",
      "18000/18000 [==============================] - 14s 802us/step - loss: 0.1513\n",
      "Epoch 18/30\n",
      "18000/18000 [==============================] - 14s 779us/step - loss: 0.1446\n",
      "Epoch 19/30\n",
      "18000/18000 [==============================] - 14s 775us/step - loss: 0.13690s - loss:\n",
      "Epoch 20/30\n",
      "18000/18000 [==============================] - 13s 718us/step - loss: 0.1300\n",
      "Epoch 21/30\n",
      "18000/18000 [==============================] - 13s 710us/step - loss: 0.1245\n",
      "Epoch 22/30\n",
      "18000/18000 [==============================] - 13s 705us/step - loss: 0.1191\n",
      "Epoch 23/30\n",
      "18000/18000 [==============================] - 10s 559us/step - loss: 0.1133\n",
      "Epoch 24/30\n",
      "18000/18000 [==============================] - 11s 630us/step - loss: 0.1096\n",
      "Epoch 25/30\n",
      "18000/18000 [==============================] - 11s 599us/step - loss: 0.1044\n",
      "Epoch 26/30\n",
      "18000/18000 [==============================] - 10s 567us/step - loss: 0.0998\n",
      "Epoch 27/30\n",
      "18000/18000 [==============================] - 12s 658us/step - loss: 0.0958\n",
      "Epoch 28/30\n",
      "18000/18000 [==============================] - 13s 719us/step - loss: 0.0910\n",
      "Epoch 29/30\n",
      "18000/18000 [==============================] - 13s 744us/step - loss: 0.0881\n",
      "Epoch 30/30\n",
      "18000/18000 [==============================] - 13s 746us/step - loss: 0.0841\n"
     ]
    },
    {
     "data": {
      "text/plain": [
       "<keras.callbacks.History at 0x237e47415c0>"
      ]
     },
     "execution_count": 26,
     "metadata": {},
     "output_type": "execute_result"
    }
   ],
   "source": [
    "model.fit(X_train,y_train, epochs=nb_epochs, batch_size=batch_size)"
   ]
  },
  {
   "cell_type": "code",
   "execution_count": 27,
   "metadata": {},
   "outputs": [],
   "source": [
    "y_pred = model.predict(X_test)"
   ]
  },
  {
   "cell_type": "code",
   "execution_count": 28,
   "metadata": {},
   "outputs": [
    {
     "data": {
      "text/plain": [
       "array([[[-0.40186697,  0.83860815,  0.5569824 ],\n",
       "        [-0.27580076,  0.3268845 , -0.03767501]],\n",
       "\n",
       "       [[-0.34449124,  0.79331434,  0.69119817],\n",
       "        [-0.24226546,  0.7833007 ,  0.9666887 ]],\n",
       "\n",
       "       [[-0.49013925, -0.03213722, -0.07929166],\n",
       "        [-0.13855948, -0.1391916 ,  0.4626964 ]],\n",
       "\n",
       "       ...,\n",
       "\n",
       "       [[ 1.1498129 ,  0.40405637, -2.0379422 ],\n",
       "        [ 0.5339718 , -0.06032705, -1.6221645 ]],\n",
       "\n",
       "       [[-0.9859293 ,  0.31595874, -0.812878  ],\n",
       "        [-1.1123451 ,  0.59344137, -1.6330836 ]],\n",
       "\n",
       "       [[-1.5458913 ,  0.8185396 , -0.2865507 ],\n",
       "        [-0.971401  ,  0.17931363, -1.421258  ]]], dtype=float32)"
      ]
     },
     "execution_count": 28,
     "metadata": {},
     "output_type": "execute_result"
    }
   ],
   "source": [
    "y_pred"
   ]
  },
  {
   "cell_type": "code",
   "execution_count": 29,
   "metadata": {},
   "outputs": [
    {
     "data": {
      "text/plain": [
       "array([[-0.40186697,  0.83860815,  0.5569824 ],\n",
       "       [-0.27580076,  0.3268845 , -0.03767501]], dtype=float32)"
      ]
     },
     "execution_count": 29,
     "metadata": {},
     "output_type": "execute_result"
    }
   ],
   "source": [
    "sc_y.inverse_transform(y_pred[0])"
   ]
  },
  {
   "cell_type": "code",
   "execution_count": 53,
   "metadata": {},
   "outputs": [
    {
     "data": {
      "text/plain": [
       "array([ 1.3413361 ,  0.42042905, -0.4863414 , ...,  0.5572949 ,\n",
       "        0.12687528,  0.11554288], dtype=float32)"
      ]
     },
     "execution_count": 53,
     "metadata": {},
     "output_type": "execute_result"
    }
   ],
   "source": [
    "y_pred[:,0,-2]"
   ]
  },
  {
   "cell_type": "code",
   "execution_count": 41,
   "metadata": {},
   "outputs": [
    {
     "data": {
      "text/plain": [
       "array([[-1.2061611 ,  1.19934341,  0.24188264],\n",
       "       [-0.96886535, -0.92271212, -0.95093249]])"
      ]
     },
     "execution_count": 41,
     "metadata": {},
     "output_type": "execute_result"
    }
   ],
   "source": [
    "y_test[0]"
   ]
  },
  {
   "cell_type": "code",
   "execution_count": 42,
   "metadata": {},
   "outputs": [
    {
     "data": {
      "text/plain": [
       "array([[-1.2061611 ,  1.19934341,  0.24188264],\n",
       "       [-0.96886535, -0.92271212, -0.95093249]])"
      ]
     },
     "execution_count": 42,
     "metadata": {},
     "output_type": "execute_result"
    }
   ],
   "source": [
    "sc_y.inverse_transform(y_test[0])"
   ]
  },
  {
   "cell_type": "code",
   "execution_count": null,
   "metadata": {},
   "outputs": [],
   "source": [
    "y_test"
   ]
  },
  {
   "cell_type": "code",
   "execution_count": 43,
   "metadata": {},
   "outputs": [
    {
     "data": {
      "text/plain": [
       "array([-0.6530783 , -1.1550515 , -0.88179564, ...,  0.44192737,\n",
       "       -0.7033779 , -1.5567799 ], dtype=float32)"
      ]
     },
     "execution_count": 43,
     "metadata": {},
     "output_type": "execute_result"
    }
   ],
   "source": [
    "y_pred[:,0,0]"
   ]
  },
  {
   "cell_type": "code",
   "execution_count": null,
   "metadata": {},
   "outputs": [],
   "source": [
    "y_pred[1]"
   ]
  },
  {
   "cell_type": "code",
   "execution_count": 48,
   "metadata": {},
   "outputs": [],
   "source": [
    "diff = sc_y.inverse_transform(y_test[:,0,:])-sc_y.inverse_transform(y_pred[:,0,:])"
   ]
  },
  {
   "cell_type": "code",
   "execution_count": 49,
   "metadata": {},
   "outputs": [
    {
     "data": {
      "text/plain": [
       "0.005420814075496175"
      ]
     },
     "execution_count": 49,
     "metadata": {},
     "output_type": "execute_result"
    }
   ],
   "source": [
    "np.mean(diff[:,0])"
   ]
  },
  {
   "cell_type": "code",
   "execution_count": 74,
   "metadata": {},
   "outputs": [
    {
     "data": {
      "text/plain": [
       "array([ 0.24188264, -0.95093249, -0.68596282, ...,  0.56411998,\n",
       "        0.87656631,  1.84895811])"
      ]
     },
     "execution_count": 74,
     "metadata": {},
     "output_type": "execute_result"
    }
   ],
   "source": [
    "sc_y.inverse_transform(y_test[:,0,:])[:,-1]"
   ]
  },
  {
   "cell_type": "code",
   "execution_count": 54,
   "metadata": {},
   "outputs": [
    {
     "name": "stderr",
     "output_type": "stream",
     "text": [
      "C:\\Users\\Portable\\Anaconda3\\lib\\site-packages\\ipykernel_launcher.py:1: RuntimeWarning: invalid value encountered in arccos\n",
      "  \"\"\"Entry point for launching an IPython kernel.\n"
     ]
    },
    {
     "data": {
      "text/plain": [
       "array([      nan, 1.1368781, 2.078694 , ..., 0.979672 , 1.4435781,\n",
       "       1.4549948], dtype=float32)"
      ]
     },
     "execution_count": 54,
     "metadata": {},
     "output_type": "execute_result"
    }
   ],
   "source": [
    "np.arccos(y_pred[:,0,-2])"
   ]
  },
  {
   "cell_type": "code",
   "execution_count": 75,
   "metadata": {},
   "outputs": [],
   "source": [
    "cos_first_hour = sc_y.inverse_transform(y_pred[:,0,:])[:,-2]\n",
    "sin_first_hour = sc_y.inverse_transform(y_pred[:,0,:])[:,-1]\n",
    "for i in range(len(cos_first_hour)):\n",
    "    mul = 1 if sin_first_hour[i] >= 0 else -1\n",
    "    cos_first_hour[i] = mul*np.arccos(max(min(1,cos_first_hour[i]),-1))"
   ]
  },
  {
   "cell_type": "code",
   "execution_count": 76,
   "metadata": {},
   "outputs": [
    {
     "data": {
      "text/plain": [
       "array([  90.    ,    0.    , -180.    , ..., -168.4276,    0.    ,\n",
       "       -180.    ], dtype=float32)"
      ]
     },
     "execution_count": 76,
     "metadata": {},
     "output_type": "execute_result"
    }
   ],
   "source": [
    "cos_first_hour*180/np.pi"
   ]
  },
  {
   "cell_type": "code",
   "execution_count": 78,
   "metadata": {},
   "outputs": [],
   "source": [
    "cos_test = sc_y.inverse_transform(y_test[:,0,:])[:,-2]\n",
    "sin_test = sc_y.inverse_transform(y_test[:,0,:])[:,-1]\n",
    "for i in range(len(cos_first_hour)):\n",
    "    mul = 1 if sin_test[i] >= 0 else -1\n",
    "    cos_test[i] = mul*np.arccos(max(min(1,cos_test[i]),-1))"
   ]
  },
  {
   "cell_type": "code",
   "execution_count": 80,
   "metadata": {},
   "outputs": [
    {
     "data": {
      "text/plain": [
       "array([   0., -180., -180., ...,   90.,   90.,   90.])"
      ]
     },
     "execution_count": 80,
     "metadata": {},
     "output_type": "execute_result"
    }
   ],
   "source": [
    "cos_test*180/np.pi"
   ]
  },
  {
   "cell_type": "code",
   "execution_count": 79,
   "metadata": {},
   "outputs": [
    {
     "data": {
      "text/plain": [
       "array([ -90.        , -180.        ,    0.        , ...,  258.42759705,\n",
       "         90.        ,  270.        ])"
      ]
     },
     "execution_count": 79,
     "metadata": {},
     "output_type": "execute_result"
    }
   ],
   "source": [
    "cos_test*180/np.pi-cos_first_hour*180/np.pi"
   ]
  }
 ],
 "metadata": {
  "kernelspec": {
   "display_name": "Python 3",
   "language": "python",
   "name": "python3"
  },
  "language_info": {
   "codemirror_mode": {
    "name": "ipython",
    "version": 3
   },
   "file_extension": ".py",
   "mimetype": "text/x-python",
   "name": "python",
   "nbconvert_exporter": "python",
   "pygments_lexer": "ipython3",
   "version": "3.6.4"
  }
 },
 "nbformat": 4,
 "nbformat_minor": 2
}
